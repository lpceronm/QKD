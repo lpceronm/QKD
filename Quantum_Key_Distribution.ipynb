{
  "nbformat": 4,
  "nbformat_minor": 0,
  "metadata": {
    "colab": {
      "name": "Quantum Key Distribution.ipynb",
      "version": "0.3.2",
      "provenance": [],
      "collapsed_sections": [],
      "include_colab_link": true
    },
    "kernelspec": {
      "name": "python3",
      "display_name": "Python 3"
    }
  },
  "cells": [
    {
      "cell_type": "markdown",
      "metadata": {
        "id": "view-in-github",
        "colab_type": "text"
      },
      "source": [
        "<a href=\"https://colab.research.google.com/github/lpceronm/QKD/blob/master/Quantum_Key_Distribution.ipynb\" target=\"_parent\"><img src=\"https://colab.research.google.com/assets/colab-badge.svg\" alt=\"Open In Colab\"/></a>"
      ]
    },
    {
      "cell_type": "markdown",
      "metadata": {
        "id": "7hUqlNDLTypQ",
        "colab_type": "text"
      },
      "source": [
        "#Quantum Key Distribution\n",
        "#####[Github Repository](https://github.com/lpceronm/QKD)\n",
        "\n",
        "* Laura Cerón Martínez.\n",
        "* Oscar Martínez  Rodríguez.\n",
        "* Valentina Marulanda Acosta."
      ]
    },
    {
      "cell_type": "markdown",
      "metadata": {
        "id": "iX69gBSP8ghD",
        "colab_type": "text"
      },
      "source": [
        "\n",
        "\n",
        "Cryptography aims to communicate data between authorized entities in a secure way, in fact the encryption era started a century ago with the *One-Time pad* proposed by Vernam which uses a symmetric one-use key shared between a sender and a receiver and that is able to secure the data as long as the key remains secret.  This is where quantum properties provide a perfectly secret transmission key relying upon the immutable laws of physics and instead of  the computational complexity the way it’s implemented  today.\n",
        "\n",
        "In a QKD system, first studied by Stephen Weisner (1970s), an eavesdropper could be easily detected thanks to the observation errors its measurements introduce to the quantum channel. Nowadays commercial QKD networks are aimed mainly for governments and corporations with high security requirements, however they are currently limited  to short links specially because of problems in the physical layer.\n",
        "\n",
        "The basic scheme of a quantum key distribution consists of two* authorized partners* sharing information over a classical channel and establishing the secret key with a quantum connection (usually optical fiber).  The partners are traditionally called **Alice** and **Bob**, in case of a third part trying to intercept the communication it is named **Eve** for eavesdropper.\n",
        "\n",
        "![](https://i.postimg.cc/rmKK355x/QKD.jpg)\n",
        "\n",
        "The QKD by deffinition tracks Eve, any attempt to measure modifies the state of the measured system. If the eavesdropper interferes the quantum channel it has to recreate the states in order to send them to Bob since the qubit is destroyed when measured. Protocols define a tolerance threshold for the error rate. Error rate is susceptible to eavesdropping, the effect of Eve is now detectable and communication could be restarted if needed. Alternatively if Eve wants to copy the key duplicating the states for further processing this is proven impossible by the non-clonning theorem (Wootters and Zurek, 1982) which makes the quantum channel robust.\n",
        "\n",
        "There are three main families of explicit QKD protocols: discrete-variable coding, continuous-variable coding, and more recently distributed phase-reference coding, the most significant difference is the scheme detection. In this project we will focus in the well-known discrete-variable protocol BB84 and some of its variations.   \n",
        "\n",
        "\n",
        "\n",
        "\n"
      ]
    },
    {
      "cell_type": "markdown",
      "metadata": {
        "id": "uk6pdD-GbKA4",
        "colab_type": "text"
      },
      "source": [
        "\n",
        "## Discrete Variable Protocols\n",
        "\n",
        "### BB84 protocol\n",
        "\n",
        "BB84 is one of the best known QKD discrete-variable protocol developed by Charles Bennet and Gilles Brassard in 1984. In order to construct a common key with Bob, Alice encripts bits of information by imposing a certain polarization on a photon and sending it to Bob via the quantum channel. In order to do this she may choose one out of two basis each with two orthogonal states. The basis used for this protocol are the standard basis, composed of the eigenstates of the *Z* Pauli matrix: $|0\\rangle$ and $|1\\rangle$, and the Hadammard basis,  composed of the eigenstates of the *X* Pauli matrix: $|+\\rangle$ and $|-\\rangle$. The principle of this protocol can be summarized in the following steps:\n",
        "\n",
        "\n",
        "\n",
        "1.   First, Alice will generate a random sequence of bits to be encoded and sent to Bob.\n",
        "2.   Next, for each of the bits Alice will choose one of the basis at random, polarize a photon in one of the two states and then send that photon to Bob. For example if Alice's bit is '0'  and she chose the standard basis, she will send a photon with the $|0\\rangle$ state, if the bit is '1', she will polarize it with the $|1\\rangle$ state.\n",
        "3. Bob will then receive the polarized photon or qubit and will choose at random (and independently for each qubit) one of the two basis to measure it. If it measures the bit with the same basis Alice has encoded it, he will correctly deduce whether Alice sent a '0'  or a '1'. However, if it chooses the wrong basis the resulting bit has a 50% chance of coinciding with the one Alice sent. The series of bits Bob has decoded is now called the *raw key*.\n",
        "\n",
        "[![Selection-049.jpg](https://i.postimg.cc/xCrHMbn3/Selection-049.jpg)](https://postimg.cc/4K5mTyKY)\n",
        "\n",
        "4. Bob's raw key and the information Alice sent are only partially correlated. In order to obtain a fully correlated set of bits, Bob will now reveal to Alice (via the classical channel) the basis he used  to decode each of the qubits.\n",
        "5. Alice will compare Bob's basis with the ones she used to encode the bits and she will announce which ones he chose correctly. Both Alice and Bob will only keep the bits for which the basis used for encoding and decoding were the same. This now reduced bit sequence is called the *sifted key*. Since Bob chooses the basis at random, he will choose incorrectly about 50% of the time. An error rate significantly higher than that would indicate that an eavesdropper is present and the channel is not secure .\n",
        "6. Alice and Bob share a random portion of their secret keys, compare it bit by bit and determine an estimated error rate. The bits used for the estimatiion will then be discarded.\n",
        "7. Finally, Bob will correct the errors with a classical post processing method and Alice and him will share a secure key that can subsequently be used to encrypt messages through the classical channel.\n",
        "\n",
        "There are some variations of the BB84 protocol, most notably the B92 and SSP or Six-State Protocol. \n",
        "\n",
        "###B92 protocol\n",
        "\n",
        "The B92 protocol was proposed by Bennet in 1992 and uses only two non-orthogonal states to encode the information: $|0\\rangle$ and  $|+\\rangle$. The principle of this protocol can be summarized in the following steps:\n",
        "\n",
        "\n",
        "\n",
        "1.   Alice generates a random sequence of bits and encodes them in one of the two states such that $|0\\rangle$ $|+\\rangle$ correspond to bit values of '0' and '1' respectively.\n",
        "2.   Bob then chooses a random basis (between the standard and the Hadammard basis) to decode each received qubit. However in this protocol he does not tell Alice which basis he used.\n",
        "3.  Since an outcome of $|0\\rangle$ or $|+\\rangle$ can result from both the initial states, only outcomes $|1\\rangle$ and$|-\\rangle$ which correspond to Alice's bits '1' and '0' would lead to a conclusive result, therefore Bob wil tell Alice when he has measured either of those states and only the corresponding bits will be kept.\n",
        "4. Finally, in an analog fashion to the BB84 protocol, Bob will share with Alice a small random portion of his measurements and she will compare them to what she sent in order to calculate an estimated error rate. Alice must take into account the correspondance of the states, if she sent  $|0\\rangle_A$, Bob will have received $|-\\rangle_B$ and consequently an initial $|+\\rangle_A$ will result in Bob's $|1\\rangle_B$ . The calculated error rate indicates how secure is the channel, eventual errors will be corrected and Alice and Bob will then have a secure key. \n",
        "\n",
        "###Six-state protocol\n",
        "\n",
        "The six -state protocol or SSP follows the same primciples as the BB84 protocol but using an additional basis, the eigenstates of the *Y* Pauli matrix $|L\\rangle$ and $|R\\rangle$. Alice and Bob wil now have to randomly choose between three basis, reducing the number of bits for which they will choose the same basis to about a third. This protocol has the advantage of providing higher symmetry and letting the presence of an Eve be more noticeable.\n",
        "\n",
        "[![cpb152547f1-hr.jpg](https://i.postimg.cc/x8pNscM8/cpb152547f1-hr.jpg)](https://postimg.cc/SY8KRQZb)"
      ]
    },
    {
      "cell_type": "markdown",
      "metadata": {
        "id": "EIGscFCSks9U",
        "colab_type": "text"
      },
      "source": [
        "## Categories of possible attacks on QKD algorithms\n",
        "\n",
        " One of the main reasons why the QKD algorithms are appealing in today’s cryptographic scene is due to the fact that they can ensure, in principle, unconditional security. An algorithm is said to be unconditional secured if can prove security by resisting any cryptanalytic attack, without imposing computing power or resources limitations to its attacker. In quantum cryptography security is defined in terms of the classical information gained by an attacker when measuring a quantum system.  \n",
        "\n",
        "As any other cryptographic algorithm, the QKD’s are not exempt from attacks. These attacks put to the test the security level of these algorithms and although they’ve been proven to be secured, the amount of information the attacker gains vary from attack to attack and therefore the security of the algorithms varies as well. The main categories into which these attacks can be divided are the following:\n",
        "\n",
        "*\tIndividual attacks\n",
        "*\tCollective attacks\n",
        "*\tCoherent attacks\n",
        "\n",
        "### Individual attacks\n",
        "\n",
        "Also known as the most restricted and most realistic kind of attacks. In this attack works Eve (eavesdropper) attacks the qubit sent by Alice by attaching an independent quantum probe to each one, then she measures each probe independently (same way bob does) before the classical post-processing procedure. Finally using the measured information, she tries to get as much information as she cans from the secret key.  \n",
        "\n",
        "The security of these algorithms has been proven several times because each time eve measures a qubit induces an error  big enough to be detected by Alice and bob.\n",
        "\n",
        "### Collective attacks\n",
        "\n",
        "In this kind of attacks, Eve follows a similar procedure as the one in the individual attacks. First, she attaches to each quantum state an identical probe (also referred as quantum system). She now stores this system into a quantum memory (where nonorthogonal quantum states can be kept for a long time) and waits until the end of the classical post-processing where she can collect, from the classical channel, information about the error-correction. With this additional information, she proceeds to measure all the probes at the same time with the aim of maximizing the information she can get from the final key. \n",
        "\n",
        "### Coherent or joint attacks\n",
        "\n",
        "The most powerful and general of the attacks on QKD algorithms. These attacks have the particularity of targeting the final key.  They work very similarly to the collective attacks but instead of processing each quantum state independently, Eve process the quantum key as a whole and attaches to it a single probe (quantum system), then she stores the it and delay the measure until she has the error-correlation information. \n",
        "\n",
        "However, prove the security of the QKD’s algorithms against this kind of attacks is extremally difficult due to the fact that performing these attacks under real life circumstances is beyond the domain of modern quantum technology. Security against them has only been proven in a noise-free channel scenario. "
      ]
    },
    {
      "cell_type": "markdown",
      "metadata": {
        "id": "XW4MWaRlDHVb",
        "colab_type": "text"
      },
      "source": [
        "## Hacking QKD\n",
        "The quantum key distribution method is especially vulnerable to hacking methods that take advantage of the system implementation rather than the weaknesses of the used algorithms. The fact that any communication link, even a quantum one, is bound to have losses including some light leakage. In the case where Eve is capable of cover her interference simulating normal light loss then she could have the key without being noticed.\n",
        "\n",
        "Some of the more popular attacks are:\n",
        "\n",
        "* ### *Beam spitting (BS) attack*:\n",
        "Eve simulates the losses by putting a beam-splitter between Alice and Bob, so the optical mode at Bob's side is not modified and therefore there is no error introduced for the eavesdropper. Nevertheless, this scheme works is only for a configuration where the message sent has more than one photon otherwise Bob would not receive anything.\n",
        "\n",
        "*  ### *Trojan horse attacks*:\n",
        "Eve probes the system of Alice and/or Bob by sending a light pulse of large spectrum and measures the reflecting signal. The first attack detected was a *Trojan* using the fact that photo-detectors emit light at different wavelength depending on the data. There are simple ways to prevent this attack, for example just adding an optical isolator to prevent the propagation to go both ways.\n",
        "\n",
        "*  ### *Denial of service*: \n",
        "Any wired system is vulnerable to this kind of attack, especially the QKD protocol using optical fiber. Nevertheless thanks to the optical link it is possible to identify the exact point of interruption. The efforts that try to address this problem look for alternative routes where the quantum key could be carried."
      ]
    },
    {
      "cell_type": "markdown",
      "metadata": {
        "id": "p_JmGPIck40x",
        "colab_type": "text"
      },
      "source": [
        "# Six-state protocol simulation\n",
        "For more detail information on the code use the **help** function"
      ]
    },
    {
      "cell_type": "code",
      "metadata": {
        "id": "_4DNIzwCZbqH",
        "colab_type": "code",
        "colab": {}
      },
      "source": [
        "import numpy as np\n",
        "import math as mt\n",
        "import matplotlib.pyplot as plt\n",
        "import matplotlib as mpl"
      ],
      "execution_count": 0,
      "outputs": []
    },
    {
      "cell_type": "code",
      "metadata": {
        "id": "QcFjbuXG87ep",
        "colab_type": "code",
        "colab": {}
      },
      "source": [
        "# Basis\n",
        "zero = np.array([1,0])## 0\n",
        "one = np.array([0,1])## 1\n",
        "plus = np.array([1,1])/np.sqrt(2)## 0\n",
        "minus = np.array([1,-1])/np.sqrt(2)## 1\n",
        "l = (1/np.sqrt(2))*(zero + 1j*one)## 0\n",
        "r = (1/np.sqrt(2))*(zero - 1j*one)## 1\n",
        "\n",
        "# Pauli matrices\n",
        "X = np.array([[0 ,1],[1, 0]])\n",
        "Y = np.array([[0 ,1j],[-1j, 0]])\n",
        "Z = np.array([[1 ,0],[0, -1]])"
      ],
      "execution_count": 0,
      "outputs": []
    },
    {
      "cell_type": "code",
      "metadata": {
        "id": "J_qTWXq5LYXX",
        "colab_type": "code",
        "cellView": "both",
        "colab": {}
      },
      "source": [
        "class Alice(object):\n",
        "\n",
        "  usedBasis = []\n",
        "  bits = []\n",
        "  qbits = []\n",
        "  siftedKey = []\n",
        "\n",
        "  basis = {\n",
        "    # Base 0/1\n",
        "    0: {'0': zero, '1': one },\n",
        "    # Base +/-\n",
        "    1: {'0': plus, '1': minus},\n",
        "    # Base L/R\n",
        "    2:{ '0':l, '1':r  }     \n",
        "  }\n",
        "  \n",
        "  def genQbits(self, lengthChain):\n",
        "    \"\"\"This function generates an array of *lengthChain* Qubits measured \n",
        "    with a randomly chosen basis.\n",
        "    \n",
        "   genQbits accepts as an argument the number of Qbits to be generated\n",
        "    \n",
        "    \"\"\"\n",
        "    self.bits = []\n",
        "    self.qbits = []\n",
        "    self.usedBasis = []\n",
        "    self.bits = [np.random.randint(0, 2) for i in range(lengthChain)]\n",
        "    for i in self.bits:\n",
        "      base = np.random.choice(list(self.basis.keys()))\n",
        "      self.usedBasis.append(base)\n",
        "      self.qbits.append(self.basis[base][str(i)])  \n",
        "    return self.qbits\n",
        "  \n",
        "  def compareBasis(self, sentBasis):\n",
        "    \"\"\"\n",
        "    This function compares the bases used by Bob to measure the Qubits \n",
        "    with the ones used by Alice.\n",
        "    It returns an boolean array of correctly guessed basis. \n",
        "    \n",
        "    compareBasis accepts as an argument an integer array containing the basis\n",
        "    used by Bob.\n",
        "    \"\"\"\n",
        "    self.siftedKey = []\n",
        "    compared = np.array(self.usedBasis) == np.array(sentBasis)\n",
        "    for i in range(len(compared)):\n",
        "      if compared[i] == True: \n",
        "        self.siftedKey.append(self.bits[i])\n",
        "    return compared\n",
        "  \n",
        "  def errorCheck(self):\n",
        "    \"\"\"\n",
        "    This function selects a portion of Alice's sifted key to be used\n",
        "    by Bob for error checking. \n",
        "    It returns an array containing the bits of the selected portion as well as\n",
        "    an array containing the positions of the bits in Bob's sifted key.\n",
        "    \n",
        "    \"\"\"\n",
        "    toCheck = []\n",
        "    index = []\n",
        "    numInd = mt.ceil(len(self.siftedKey)* 0.15)\n",
        "    # randomly select *numInd* bits form alice's sifted key\n",
        "    index = np.random.choice(np.array(self.siftedKey).shape[0], \n",
        "                             numInd, replace=False) \n",
        "    for i in index:\n",
        "      # store the selected bits in a new array\n",
        "      toCheck.append(self.siftedKey[i])\n",
        "      self.siftedKey[i] = None  \n",
        "    # Remove from the sifted key the select bits for error checking  \n",
        "    self.siftedKey = [x for x in self.siftedKey if x is not None]\n",
        "    return index,toCheck\n",
        "  \n",
        "  def shuffleSiftedKey(self):\n",
        "    \"\"\"\n",
        "    This function permutes the bits of the siftedKey. It returns the state \n",
        "    of the numpty random function used for the permutation\n",
        "    \n",
        "    \"\"\"\n",
        "    perm = np.random.get_state()\n",
        "    np.random.shuffle(self.siftedKey)\n",
        "    return perm"
      ],
      "execution_count": 0,
      "outputs": []
    },
    {
      "cell_type": "code",
      "metadata": {
        "id": "YrwP55AKakRK",
        "colab_type": "code",
        "colab": {}
      },
      "source": [
        "class Bob(object):\n",
        "  usedBasis = []\n",
        "  bits = []\n",
        "  siftedKey = []\n",
        "  errorRate = 0.0\n",
        "  \n",
        "  def __init__(self):\n",
        "    self.pomZero = self.pomGen(zero)\n",
        "    self.pomOne = self.pomGen(one)\n",
        "    self.pomPlus = self.pomGen(plus)\n",
        "    self.pomMinus = self.pomGen(minus)\n",
        "    self.pomL = self.pomGen(l)\n",
        "    self.pomR = self.pomGen(r)\n",
        "    \n",
        "  \n",
        "  def pomGen(self, state):\n",
        "    \"\"\" This function generates the probability \n",
        "    operators for each state of the 3 basis used \"\"\"\n",
        "    return (1/3)* np.outer(state, state.conj())\n",
        "  \n",
        "  def pomProbability(self,densityMatrix,pom):\n",
        "    \"\"\" This function computes the probability that a certain density matrix \n",
        "    corresponds to one state of the probability operator pom \"\"\"\n",
        "    prob = np.matrix.trace(pom@densityMatrix) \n",
        "    return prob\n",
        "\n",
        "  def measure(self, densityMatrix):\n",
        "    \"\"\" This functions takes as an argument a density matrix, picks a random \n",
        "    base and determines the state it most likely belongs to, it then returns\n",
        "    whether the bit sent was a 0 or a 1. n is the base number: 0 corresponds to\n",
        "    the standard basis (|0> and |1>), 1 is the Hadammard basis (|+> and |->)\n",
        "    and 2 is the third basis (|L> and |R>). The bit value and n are returned \"\"\"\n",
        "    n = np.random.randint(0,3)\n",
        "    if n == 0:\n",
        "      p1 = self.pomProbability(densityMatrix,self.pomZero);\n",
        "      p2 = self.pomProbability(densityMatrix,self.pomOne);\n",
        "      if p1 > p2:\n",
        "        return 0,n\n",
        "      else:\n",
        "        return 1,n\n",
        "    elif n == 1:\n",
        "      p1 = self.pomProbability(densityMatrix,self.pomPlus);\n",
        "      p2 = self.pomProbability(densityMatrix,self.pomMinus);\n",
        "      if p1 > p2:\n",
        "        return 0,n\n",
        "      else:\n",
        "        return 1,n\n",
        "    elif n == 2:\n",
        "      p1 = self.pomProbability(densityMatrix,self.pomL);\n",
        "      p2 = self.pomProbability(densityMatrix,self.pomR);\n",
        "      if p1 > p2:\n",
        "        return 0,n\n",
        "      else:\n",
        "        return 1,n\n",
        "    \n",
        "  def measureQbits(self, qubitArray):\n",
        "    \"\"\" This function measures all the qubits in a qubit array and returns an\n",
        "    array of the basis used and the bits obtained \"\"\"\n",
        "    self.bits = []\n",
        "    self.usedBasis = []\n",
        "    for i in range(len(qubitArray)):\n",
        "      b,n = self.measure(qubitArray[i])\n",
        "      self.bits.append(b)\n",
        "      self.usedBasis.append(n)\n",
        "      \n",
        "       \n",
        "  def siftedKey(self, compared):\n",
        "    \"\"\" This function takes a boolean array of compared basis and creates an\n",
        "    array only with the bits for which Bob and Alice's basis match\"\"\"\n",
        "    self.siftedKey = []\n",
        "    for i in range(len(compared)):\n",
        "      if compared[i] == True: \n",
        "        self.siftedKey.append(self.bits[i])\n",
        "        \n",
        "   \n",
        "  def errorCheck(self, index, bits):\n",
        "    \"\"\" This function receives a portion of Alice's sifted key and the \n",
        "    corresponding indices, it then compares the same bits of Bob's key and \n",
        "    computes  the estimated error rate. \"\"\"\n",
        "    rate = 0\n",
        "    ind = 0\n",
        "    for i in index:\n",
        "      if self.siftedKey[i] != bits[ind]: \n",
        "        rate+= 1 \n",
        "      ind+=1  \n",
        "      self.siftedKey[i] = None \n",
        "    self.errorRate = rate/len(bits)  \n",
        "    self.siftedKey = [x for x in self.siftedKey if x is not None]    \n",
        "    return rate \n",
        "  \n",
        "  def shuffleSiftedKey(self, state):\n",
        "    \"\"\" This function takes the state of the numpy random function in order to \n",
        "    apply to Bob's key the same permutation as Alice's key \"\"\"\n",
        "    np.random.set_state(state)\n",
        "    np.random.shuffle(self.siftedKey)"
      ],
      "execution_count": 0,
      "outputs": []
    },
    {
      "cell_type": "code",
      "metadata": {
        "id": "sf0bHoll-wBi",
        "colab_type": "code",
        "cellView": "code",
        "colab": {}
      },
      "source": [
        "\n",
        "class Checker(object):\n",
        "  aliceKey = []\n",
        "  bobKey = []\n",
        "  \n",
        "  def __init__(self, keyA, keyB):\n",
        "    self.aliceKey = keyA\n",
        "    self.bobKey = keyB\n",
        "\n",
        "  \n",
        "  def parityA(self, min, max):\n",
        "    \"\"\"This function retuns the parity of Alice's key within two limits\"\"\"\n",
        "    parity = 0\n",
        "    for a in self.aliceKey[min:max]:\n",
        "      parity = (parity + a)%2\n",
        "    return parity\n",
        "  \n",
        "  def checkParity(self, min, max):\n",
        "    \"\"\"This recursive function searches for the bit that causes the parity \n",
        "    differences between Alice's’ and Bob’s keys in a specific block.\"\"\"\n",
        "    size = len(self.bobKey[min:max])\n",
        "    x = self.parityA(min,max)\n",
        "    parity = 0\n",
        "    \n",
        "    if(size == 1):\n",
        "      if (x != self.bobKey[min]):\n",
        "        self.bobKey[min] = (self.bobKey[min]+1)%2        \n",
        "        return 1\n",
        "      else:\n",
        "        return 0\n",
        "    else:\n",
        "      parity = 0\n",
        "      for a in self.bobKey[min:max]:\n",
        "          parity = (parity + a)%2\n",
        "\n",
        "      if(parity == x ):\n",
        "  \n",
        "        return 0\n",
        "      else:\n",
        "        if(self.checkParity(min, min+int(size/2)) == 1 ):\n",
        "          return 1\n",
        "        else:\n",
        "          if(self.checkParity(min+int(size/2),max) == 1 ):\n",
        "            return 1\n",
        "          else:\n",
        "            return 0  \n",
        "    return -1\n",
        "  "
      ],
      "execution_count": 0,
      "outputs": []
    },
    {
      "cell_type": "code",
      "metadata": {
        "id": "tdJFb0GlCLir",
        "colab_type": "code",
        "cellView": "both",
        "colab": {}
      },
      "source": [
        "\n",
        "def density(x):\n",
        "  \"\"\" Rerturns a list of density matrices p given a list x\n",
        "  of qubits\"\"\"\n",
        "  p = [] #list to be returned\n",
        "  for q  in x:\n",
        "    # |q><q|\n",
        "    p.append(np.outer(q, q.conj())) #density matrix for each qubit \n",
        "    \n",
        "  return p\n",
        "\n",
        "def transmission(p,r):\n",
        "    \"\"\"\" Returns the list nosy density matrices (t) given the\n",
        "    factor r of noise level and a the generalized qubits matrix \"\"\"\n",
        "    t = [] #list to be returned\n",
        "    for rho in p:\n",
        "       q = r * np.random.random_sample()\n",
        "       t.append((1-q)*rho + (q/3)*(X@rho@X + Y@rho@Y + Z@rho@Z))\n",
        "    return t\n",
        "  \n",
        "def reconciliation(a,b):\n",
        "  \"\"\"\n",
        "  This function divides the key into several blocks and \n",
        "  implements the cascade algorithm in each of them \n",
        "  (for futher information see\n",
        "  ref 3 and 9). \n",
        "  \n",
        "  reconciliation accepts as parameters intances of Alice and Bob\n",
        "  \n",
        "  \"\"\"\n",
        "  finalAlice = []\n",
        "  finalBob = []\n",
        "  if b.errorRate != 0:\n",
        "    numBlocks = int(0.73/b.errorRate)\n",
        "    # Instanciates a Checker object\n",
        "    c = Checker(a.siftedKey,b.siftedKey)\n",
        "    if (len(b.siftedKey) % numBlocks) != 0: numBlocks+=1    \n",
        "    \n",
        "    for kk in range(10):\n",
        "      k = len(b.siftedKey)\n",
        "      blockLen = int(k/numBlocks)\n",
        "      b.shuffleSiftedKey(a.shuffleSiftedKey())\n",
        "      for i in range(numBlocks):\n",
        "        parA = 0\n",
        "        parB = 0\n",
        "        downL = i*blockLen\n",
        "        upL = (1+i)*blockLen -1\n",
        "        if i == numBlocks:  upL = k\n",
        "\n",
        "        c.aliceKey = a.siftedKey[downL:upL]\n",
        "        c.bobKey = b.siftedKey[downL:upL]\n",
        "        l1 = np.ceil(mt.log(len(c.aliceKey),2))\n",
        "\n",
        "        for al in c.aliceKey:\n",
        "            parA = (parA + al)%2\n",
        "        for bb in c.bobKey:\n",
        "            parB = (parB + bb)%2\n",
        "\n",
        "        if parA != parB:\n",
        "          # Finds errors in the given block. \n",
        "          c.checkParity(0,len(c.aliceKey))\n",
        "          index = np.random.choice(np.array(c.aliceKey).shape[0],int(l1),\n",
        "                                   replace=False) \n",
        "          for pp in index:\n",
        "            if pp < len(c.aliceKey):\n",
        "              list(c.aliceKey).pop(pp)\n",
        "              list(c.bobKey).pop(pp)\n",
        "\n",
        "          finalAlice = np.concatenate((finalAlice,c.aliceKey),axis = 0)\n",
        "          finalBob = np.concatenate((finalBob,c.bobKey),axis = 0)\n",
        "          c.aliceKey = []\n",
        "          c.bobKey = []\n",
        "\n",
        "      a.siftedKey = finalAlice\n",
        "      b.siftedKey = finalBob\n",
        "      finalAlice = []\n",
        "      finalBob = []\n",
        "      if (np.array_equal(a.siftedKey,b.siftedKey)):\n",
        "        break\n",
        "      b.shuffleSiftedKey(a.shuffleSiftedKey())\n",
        "\n"
      ],
      "execution_count": 0,
      "outputs": []
    },
    {
      "cell_type": "markdown",
      "metadata": {
        "id": "WEqifKq6nbvC",
        "colab_type": "text"
      },
      "source": [
        "# Protocol simulation"
      ]
    },
    {
      "cell_type": "code",
      "metadata": {
        "id": "2dlvbWtEaTfF",
        "colab_type": "code",
        "outputId": "ca425855-e067-4dfe-bc27-027e748e5338",
        "cellView": "both",
        "colab": {
          "base_uri": "https://localhost:8080/",
          "height": 136
        }
      },
      "source": [
        "#@title ## Simulation\n",
        "#@markdown * One key transmission between Alice (a) and Bob (b)\n",
        "a = Alice()\n",
        "b = Bob()\n",
        "#@markdown * **Alice** generates random 10000 qbits \n",
        "qbits = a.genQbits(int(10000))\n",
        "#@markdown * The Qubits are tansmited using a noisy channel\n",
        "p = density(qbits)\n",
        "t = transmission(p,.8)\n",
        "#@markdown * **Bob** receives ans measures the qubits obtaining bits \n",
        "b.measureQbits(t)\n",
        "#@markdown * **Alice** compares the bases with the ones **Bob** used\n",
        "compared = a.compareBasis(b.usedBasis)\n",
        "#@markdown * **Bob** deletes the measures that dont correspond to **Alice** bases **raw key**\n",
        "b.siftedKey(compared)\n",
        "#@markdown * Parameteres are measured to determine the *bit error*\n",
        "index1,bits = a.errorCheck()\n",
        "res= b.errorCheck(index1,bits)\n",
        "print(\"Error rate:  \" +str(b.errorRate))\n",
        "\n",
        "#@markdown * Reconciated trought the cascade algorithm \n",
        "reconciliation(a,b)\n",
        "\n",
        "print(\"A final key\\n \" + str(a.siftedKey))\n",
        "print(\"B final key\\n \"+ str(b.siftedKey))\n",
        "print(\"Final Difference\")  \n",
        "print(np.linalg.norm(np.array(a.siftedKey)-np.array(b.siftedKey)))"
      ],
      "execution_count": 7,
      "outputs": [
        {
          "output_type": "stream",
          "text": [
            "Error rate:  0.08858267716535433\n",
            "A final key\n",
            " [1. 1. 1. 1. 1. 1. 1. 0. 0. 1. 1.]\n",
            "B final key\n",
            " [1. 1. 1. 1. 1. 1. 1. 0. 0. 1. 1.]\n",
            "Final Difference\n",
            "0.0\n"
          ],
          "name": "stdout"
        }
      ]
    },
    {
      "cell_type": "markdown",
      "metadata": {
        "id": "OZIxzjkZnmSu",
        "colab_type": "text"
      },
      "source": [
        "# Plots"
      ]
    },
    {
      "cell_type": "markdown",
      "metadata": {
        "id": "luiLyKJUnynl",
        "colab_type": "text"
      },
      "source": [
        "## Error rate vs Noise Plot "
      ]
    },
    {
      "cell_type": "code",
      "metadata": {
        "id": "QE_JaXaTtTA0",
        "colab_type": "code",
        "outputId": "a99e73ef-b514-4344-d1bd-55869cb8c6b4",
        "cellView": "both",
        "colab": {
          "base_uri": "https://localhost:8080/",
          "height": 295
        }
      },
      "source": [
        "Noise = np.linspace(0.7,1,8)\n",
        "bitsSize = np.linspace(1000,10000,10)\n",
        "errorRates = []\n",
        "keysLenght = []\n",
        "errorMean = []\n",
        "for q in Noise:\n",
        "  for s in bitsSize:\n",
        "    a = Alice()\n",
        "    b = Bob()\n",
        "    \n",
        "    qbits = a.genQbits(int(s))\n",
        "    p = density(qbits)\n",
        "    t = transmission(p,q)\n",
        "    b.measureQbits(t)\n",
        "    compared = a.compareBasis(b.usedBasis)\n",
        "    b.siftedKey(compared)\n",
        "    index1,bits = a.errorCheck()\n",
        "    res= b.errorCheck(index1,bits)\n",
        "    errorRates.append(b.errorRate)\n",
        "    keysLenght.append(len(b.siftedKey))\n",
        "  errorMean.append(np.mean(np.array(errorRates)))\n",
        "  \n",
        "plt.plot(Noise,errorMean,'o-')\n",
        "plt.xlabel('Noise Factor')\n",
        "plt.ylabel('Error rate')\n",
        "plt.title('Error rate vs Channel noise')\n",
        "plt.grid(True)\n",
        "plt.show()\n"
      ],
      "execution_count": 8,
      "outputs": [
        {
          "output_type": "display_data",
          "data": {
            "image/png": "[encoded data removed]",
            "text/plain": [
              "<Figure size 432x288 with 1 Axes>"
            ]
          },
          "metadata": {
            "tags": []
          }
        }
      ]
    },
    {
      "cell_type": "markdown",
      "metadata": {
        "id": "Us-khO1mn5pD",
        "colab_type": "text"
      },
      "source": [
        "## Final key length vs Noise plot"
      ]
    },
    {
      "cell_type": "code",
      "metadata": {
        "id": "kkLGLZWCrWfu",
        "colab_type": "code",
        "outputId": "32ecd80f-e9c8-46ff-f1b6-14847b36335d",
        "colab": {
          "base_uri": "https://localhost:8080/",
          "height": 295
        }
      },
      "source": [
        "\n",
        "bitsSize = np.linspace(10000,50000,10)\n",
        "keyslength = []\n",
        "for s in bitsSize:\n",
        "  a = Alice()\n",
        "  b = Bob()\n",
        "\n",
        "  qbits = a.genQbits(int(s))\n",
        "  p = density(qbits)\n",
        "  t = transmission(p,q)\n",
        "  b.measureQbits(t)\n",
        "  compared = a.compareBasis(b.usedBasis)\n",
        "  b.siftedKey(compared)\n",
        "  index1,bits = a.errorCheck()\n",
        "  res= b.errorCheck(index1,bits)\n",
        "  keyslength.append(len(b.siftedKey))\n",
        "  \n",
        "plt.plot(bitsSize,keyslength,'o-')\n",
        "plt.xlabel('Number of bits sent')\n",
        "plt.ylabel('Final Key length')\n",
        "plt.title('Key length vs Number of bits')\n",
        "plt.grid(True)\n",
        "plt.show()"
      ],
      "execution_count": 9,
      "outputs": [
        {
          "output_type": "display_data",
          "data": {
            "image/png": "[encoded data removed]",
            "text/plain": [
              "<Figure size 432x288 with 1 Axes>"
            ]
          },
          "metadata": {
            "tags": []
          }
        }
      ]
    },
    {
      "cell_type": "markdown",
      "metadata": {
        "id": "4E0lePiioDQ8",
        "colab_type": "text"
      },
      "source": [
        "## Final key length vs Noise plot"
      ]
    },
    {
      "cell_type": "code",
      "metadata": {
        "id": "cnmZoBF52aRG",
        "colab_type": "code",
        "cellView": "both",
        "outputId": "7206afbf-9ba9-4d67-e8a3-b497057108be",
        "colab": {
          "base_uri": "https://localhost:8080/",
          "height": 295
        }
      },
      "source": [
        "Noise = Noise = np.linspace(0.5,1,30)\n",
        "lenKey = []\n",
        "for q in Noise: \n",
        "  ## System\n",
        "  a = Alice()\n",
        "  b = Bob()\n",
        "  ## Alcie\n",
        "  qbits = a.genQbits(int(100000))\n",
        "  #Channel\n",
        "  p = density(qbits)\n",
        "  t = transmission(p,q)\n",
        "  #Bob\n",
        "  b.measureQbits(t)\n",
        "  compared = a.compareBasis(b.usedBasis)\n",
        "  b.siftedKey(compared)\n",
        "  index1,bits = a.errorCheck()\n",
        "  res= b.errorCheck(index1,bits)\n",
        "  \n",
        "  reconciliation(a,b)\n",
        "  lenKey.append(len(b.siftedKey))\n",
        "\n",
        "plt.plot(Noise,lenKey,'o-')\n",
        "plt.xlabel('Noise Factor')\n",
        "plt.ylabel('Key length')\n",
        "plt.title('Final Key length vs Channel noise')\n",
        "plt.grid(True)\n",
        "plt.show()\n"
      ],
      "execution_count": 10,
      "outputs": [
        {
          "output_type": "display_data",
          "data": {
            "image/png": "[encoded data removed]",
            "text/plain": [
              "<Figure size 432x288 with 1 Axes>"
            ]
          },
          "metadata": {
            "tags": []
          }
        }
      ]
    },
    {
      "cell_type": "markdown",
      "metadata": {
        "id": "FK0ouzWb578c",
        "colab_type": "text"
      },
      "source": [
        "# Conclusions\n",
        "\n",
        "* Quantum Key Distribution procols are already viable and will be soon implemented world wide since it's based  in physics laws rather than in  some algorithm's computational complexity.\n",
        "*  Quantum cryptography is still in development and needs the evolution of the physical layer in order to 100 % accomplish its purposes .\n",
        "*  A large number of qubits must be sent in order to obtain a key lenght that could assure the confidentiality  fo the communication. This result can be verified with the simulation."
      ]
    },
    {
      "cell_type": "markdown",
      "metadata": {
        "id": "LO-eMEaf58Yq",
        "colab_type": "text"
      },
      "source": [
        "# References\n",
        "\n",
        "[1] [The Security of Practical Quantum Key Distribution](https://arxiv.org/pdf/0802.4155.pdf)\n",
        "\n",
        "[2]  [Hacking commercial quantum cryptography systems by tailored bright\n",
        "illumination](https://arxiv.org/pdf/1008.4593.pdf)\n",
        "\n",
        "[3] [An empirical analysis of the cascade secret key\n",
        "Reconciliation protocol for quantum key distribution](https://arxiv.org/pdf/1407.2357.pdf)\n",
        "\n",
        "[4] [Security of differential phase shift quantum key distribution against individual attacks](https://arxiv.org/pdf/quant-ph/0508112.pdf)\n",
        "\n",
        "[5] [Optimal realistic attacks in continuous-variable quantum key distribution](https://arxiv.org/pdf/1811.05562.pdf)\n",
        "\n",
        "[6] [Security of Quantum Cryptography against Collective Attacks](http://www.cs.technion.ac.il/~qip-lab/publications/p2256_1.pdf)\n",
        "\n",
        "[7] [Security of Quantum Key Distribution Against All Collective Attacks](https://arxiv.org/pdf/quant-ph/9801022.pdf)\n",
        "\n",
        "[8] [Decoy State Quantum Key Distribution](https://arxiv.org/pdf/quant-ph/0411004.pdf)\n",
        "\n",
        "[9][ Secret-Key Reconciliation by Public Discussion](https://link.springer.com/content/pdf/10.1007/3-540-48285-7_35.pdf)\n",
        "\n",
        "[10] [ Incoherent and Coherent Eavesdropping in the 6-state Protocol of\n",
        "Quantum Cryptography](https://arxiv.org/pdf/quant-ph/9807041.pdf)\n",
        "\n",
        "[11][ A comparative study of protocols for secure quantum communication\n",
        "under noisy environment: single-qubit-based protocols versus\n",
        "entangled-state-based protocols](https://arxiv.org/pdf/1603.00178.pdf)\n",
        "\n",
        "[12][ Cryptography from quantum mechanical viewpoint](https://arxiv.org/pdf/1407.2357.pdf)\n"
      ]
    }
  ]
}